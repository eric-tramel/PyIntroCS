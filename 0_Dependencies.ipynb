{
 "cells": [
  {
   "cell_type": "markdown",
   "metadata": {},
   "source": [
    "# Dependencies\n",
    "---\n",
    "In this notebook we will install and configure the Python packages used throughout this set of demonstration notebooks."
   ]
  },
  {
   "cell_type": "markdown",
   "metadata": {},
   "source": [
    "## 1. Use PIP for Package Installation\n",
    "---\n",
    "Besides being an easy command-line tool for installing Python packages, e.g.\n",
    "```bash\n",
    "    bash> pip install <package>\n",
    "```\n",
    "We can also utilize PIP from directly inside our Python scripts, or, in this case, inside the Jupyter notebook. At first blush, one would image using some kind of operating-system call, e.g.\n",
    "```python\n",
    "    from subprocess import call\n",
    "    call([\"pip\",\"install\",\"<module>\"])\n",
    "```\n",
    "However, it is perhaps more elegant to use the method we detail below. This approach is adapted from the suggestion of Rikard Anglerud, [here](http://stackoverflow.com/questions/12332975/installing-python-module-within-code)."
   ]
  },
  {
   "cell_type": "code",
   "execution_count": 24,
   "metadata": {
    "collapsed": false
   },
   "outputs": [],
   "source": [
    "import pip  \n",
    "\n",
    "def install(package):\n",
    "    \"\"\" Install a package by name.\n",
    "\n",
    "    This is a function of convenience, taking the\n",
    "    identifying name of package (e.g. `numpy`) and\n",
    "    installing it via pip.\n",
    "    \"\"\"\n",
    "    pip.main(['install',package])\n",
    "    \n",
    "def upgrade(package):\n",
    "    \"\"\" Upgrade a package by name.\n",
    "    \n",
    "    Another function of convenience. Given a package\n",
    "    name, ensure that this package is updated.    \n",
    "    \"\"\"\n",
    "    pip.main(['install',package,'--upgrade'])"
   ]
  },
  {
   "cell_type": "markdown",
   "metadata": {},
   "source": [
    "PIP relies on having up-to-date information about current package releases. Before installing packges, we should make sure that PIP, itself, is fresh."
   ]
  },
  {
   "cell_type": "code",
   "execution_count": 28,
   "metadata": {
    "collapsed": false
   },
   "outputs": [
    {
     "name": "stdout",
     "output_type": "stream",
     "text": [
      "Requirement already up-to-date: pip in /Users/tramel/anaconda/envs/PyIntroCS-Py2.7/lib/python2.7/site-packages\n",
      "Requirement already up-to-date: wheel in /Users/tramel/anaconda/envs/PyIntroCS-Py2.7/lib/python2.7/site-packages\n",
      "Requirement already up-to-date: setuptools in /Users/tramel/anaconda/envs/PyIntroCS-Py2.7/lib/python2.7/site-packages/setuptools-18.4-py2.7.egg\n"
     ]
    }
   ],
   "source": [
    "upgrade('pip')\n",
    "upgrade('wheel')\n",
    "upgrade('setuptools')"
   ]
  },
  {
   "cell_type": "markdown",
   "metadata": {},
   "source": [
    "## 2. NumPy\n",
    "---"
   ]
  },
  {
   "cell_type": "markdown",
   "metadata": {},
   "source": [
    "The [NumPy package](http://www.numpy.org) is **the** premier package for numerical and scientific computing in Python. It forms the basis for the vast majority of the computation we will be using in these demonstrations. \n",
    "\n",
    "Many tutorials exist for learning about and using NumPy, from the basics, to advanced operations. One fun place to starty might be:\n",
    "* [The Game of Life NumPy Tutorial](http://www.labri.fr/perso/nrougier/teaching/numpy/numpy.html) -- Nicolas P. Rougier"
   ]
  },
  {
   "cell_type": "code",
   "execution_count": 21,
   "metadata": {
    "collapsed": false
   },
   "outputs": [
    {
     "name": "stdout",
     "output_type": "stream",
     "text": [
      "Requirement already satisfied (use --upgrade to upgrade): numpy in /Users/tramel/anaconda/envs/PyIntroCS-Py2.7/lib/python2.7/site-packages\n"
     ]
    }
   ],
   "source": [
    "install('numpy')"
   ]
  },
  {
   "cell_type": "markdown",
   "metadata": {},
   "source": [
    "## 3. SciPy\n",
    "---\n",
    "\n",
    "The core [SciPy library](http://docs.scipy.org/doc/scipy-dev/reference/) is a terrific tool for scientific computing. Inside, many common higher-level operations are already implemented. Before re-implementing a particular tool or technique, one should check to see if the SciPy community has already published a working version.\n",
    "\n",
    "Some sub-packages include:\n",
    "* Integration\n",
    "* Optimization\n",
    "* High-level Linear Algebra\n",
    "* Signal Processing\n",
    "* Statistics\n",
    "* File I/O"
   ]
  },
  {
   "cell_type": "code",
   "execution_count": null,
   "metadata": {
    "collapsed": false
   },
   "outputs": [],
   "source": [
    "install('scipy')"
   ]
  },
  {
   "cell_type": "markdown",
   "metadata": {
    "collapsed": true
   },
   "source": [
    "If, at this point, you get some kind of error when attempting to install and build SciPy through PIP, I suggest that you look at installing the [Anaconda Python development suite](https://www.continuum.io/downloads) for scientific computing. This suite already includes optimized versions of NumPy/SciPy, allowing you to avoid installing them directly in this manner."
   ]
  },
  {
   "cell_type": "markdown",
   "metadata": {},
   "source": [
    "## 4. PyWavelets\n",
    "The [PyWavelets package](http://pywavelets.readthedocs.org/en/latest/) allows us to conduct both 1D and 2D discrete wavelet decompositions with a number of different wavelet filters already provided. It also supports the stationary/redudant/undecimated wavelet decompsition (RDWT)."
   ]
  },
  {
   "cell_type": "code",
   "execution_count": 30,
   "metadata": {
    "collapsed": false
   },
   "outputs": [
    {
     "name": "stdout",
     "output_type": "stream",
     "text": [
      "Collecting PyWavelets\n",
      "  Downloading PyWavelets-0.3.0.tar.gz (635kB)\n",
      "Building wheels for collected packages: PyWavelets\n",
      "  Running setup.py bdist_wheel for PyWavelets\n",
      "  Stored in directory: /Users/tramel/Library/Caches/pip/wheels/4e/79/5a/624b1bb265de53b01b759661d536168068e54a083dfb6c5e37\n",
      "Successfully built PyWavelets\n",
      "Installing collected packages: PyWavelets\n",
      "Successfully installed PyWavelets-0.3.0\n"
     ]
    }
   ],
   "source": [
    "install('PyWavelets')"
   ]
  },
  {
   "cell_type": "markdown",
   "metadata": {},
   "source": [
    "## 5. Scikit-Learn"
   ]
  },
  {
   "cell_type": "code",
   "execution_count": 33,
   "metadata": {
    "collapsed": false
   },
   "outputs": [
    {
     "name": "stdout",
     "output_type": "stream",
     "text": [
      "Collecting scikit-learn\n",
      "  Downloading scikit-learn-0.16.1.tar.gz (7.3MB)\n",
      "Building wheels for collected packages: scikit-learn\n",
      "  Running setup.py bdist_wheel for scikit-learn\n",
      "  Stored in directory: /Users/tramel/Library/Caches/pip/wheels/d7/32/49/2b81ed84c7c6b81652bb1c965939bbf659839732ad0935bb21\n",
      "Successfully built scikit-learn\n",
      "Installing collected packages: scikit-learn\n",
      "Successfully installed scikit-learn-0.16.1\n"
     ]
    }
   ],
   "source": [
    "install('scikit-learn')"
   ]
  },
  {
   "cell_type": "code",
   "execution_count": null,
   "metadata": {
    "collapsed": true
   },
   "outputs": [],
   "source": []
  }
 ],
 "metadata": {
  "kernelspec": {
   "display_name": "Python 2",
   "language": "python",
   "name": "python2"
  },
  "language_info": {
   "codemirror_mode": {
    "name": "ipython",
    "version": 2
   },
   "file_extension": ".py",
   "mimetype": "text/x-python",
   "name": "python",
   "nbconvert_exporter": "python",
   "pygments_lexer": "ipython2",
   "version": "2.7.10"
  }
 },
 "nbformat": 4,
 "nbformat_minor": 0
}

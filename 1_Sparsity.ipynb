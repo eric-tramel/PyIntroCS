{
 "cells": [
  {
   "cell_type": "markdown",
   "metadata": {},
   "source": [
    "# Sparsity\n",
    "In this notebook we will take a look at sparse signals and note some of their properties. We will follow the following notational conventions. We will define a signal, $\\mathbf{x} \\in \\mathbb{R}^N$ to be *sparse* if $K$ elements of $\\mathbf{x}$ are non-zero, while the remaining elements are exactly zero. We will define the *sparsity* of $\\mathbf{x}$ to be the ratio of the number of non-zeros to zeros,\n",
    "$$\\rho = \\frac{K}{N}.$$\n",
    "\n",
    "Below, we will take a look at a few such signals and study their properties."
   ]
  },
  {
   "cell_type": "code",
   "execution_count": 1,
   "metadata": {
    "collapsed": false
   },
   "outputs": [],
   "source": [
    "# Including Dependencies\n",
    "%matplotlib inline                  \n",
    "import numpy as np                  # Numpy, très important\n",
    "import matplotlib.pyplot as plt     # PyPlot for Plotting\n",
    "import scipy.fftpack as fftpk       # FFTPack for Harmonic Analy.\n",
    "from DepsSparsity import *"
   ]
  },
  {
   "cell_type": "markdown",
   "metadata": {},
   "source": [
    "## Generating Random K-Sparse Signals\n",
    "---\n",
    "\n",
    "For now, let us confine ourselves to synthetic examples of exactly $K$-Sparse signals. Let us take a look at how to generate such a signal."
   ]
  },
  {
   "cell_type": "code",
   "execution_count": 2,
   "metadata": {
    "collapsed": true
   },
   "outputs": [],
   "source": [
    "def RandomKSparseSignal(K,N):\n",
    "    \"\"\" Random realization of a K-sparse signal.\n",
    "    \n",
    "        Assumes that all non-zero components of the realization\n",
    "        are drawn iid from a zero-mean Gaussian with a variance \n",
    "        of ``1``. \n",
    "    \n",
    "        Input\n",
    "        ---\n",
    "        K: int\n",
    "           Number of non-zeros in the signal.\n",
    "        N: int\n",
    "           Signal dimensionality (length)\n",
    "        \n",
    "        Returns\n",
    "        ---\n",
    "        x: array_like, float\n",
    "           The K-sparse signal realization, shaped ``(n,1)``\n",
    "        s: array_like, bool\n",
    "           The support of ``x``, shaped ``(n,1)``. Has value\n",
    "           ``True`` at every non-zero location of ``x`` and\n",
    "           ``False`` everywhere else.\n",
    "           \n",
    "        \n",
    "    \"\"\"\n",
    "    x = np.random.randn(N,1)                # Generate iid Gaussian samples     \n",
    "    s = np.zeros((N,1),dtype=bool)          # Cast ``0.0`` as ``False``\n",
    "    si = np.random.permutation(N)[1:K]      # Random support locations\n",
    "    s[si] = True                            # Flag on-support values\n",
    "    x[np.invert(s)] = 0.0                   # Suppress off-support values of ``x``\n",
    "    \n",
    "    return x, s"
   ]
  },
  {
   "cell_type": "markdown",
   "metadata": {},
   "source": [
    "Now, lets take a look at what what one of these $K$-sparse signals looks like."
   ]
  },
  {
   "cell_type": "code",
   "execution_count": 3,
   "metadata": {
    "collapsed": false
   },
   "outputs": [
    {
     "data": {
      "image/png": "[encoded data removed]",
      "text/plain": [
       "<matplotlib.figure.Figure at 0x106938750>"
      ]
     },
     "metadata": {},
     "output_type": "display_data"
    }
   ],
   "source": [
    "N = 1024         # Desired signal dimensionality\n",
    "K = 64           # Number of non-zeros\n",
    "xsparse,xsparse_support = RandomKSparseSignal(K,N)\n",
    "ShowSignal(xsparse);"
   ]
  },
  {
   "cell_type": "code",
   "execution_count": null,
   "metadata": {
    "collapsed": false
   },
   "outputs": [],
   "source": [
    "def TopKThreshold(x,K):\n",
    "    xsorted = sorted(abs(x),reverse=True)\n",
    "    K = min(K,np.size(x)-2)\n",
    "    T = xsorted[K+1]\n",
    "    xT = np.array(x, copy=True)\n",
    "    xT[abs(xT)<T] = 0.0\n",
    "    return xT\n",
    "\n",
    "def MSE(x,y):\n",
    "    mseval = np.mean(np.power(x-y,2))    \n",
    "    return mseval\n",
    "\n",
    "def EnergyRatio(x,y):\n",
    "    xeng = np.linalg.norm(x,2)\n",
    "    xeng = xeng*xeng\n",
    "    \n",
    "    yeng = np.linalg.norm(y,2)\n",
    "    yeng = yeng*yeng\n",
    "    \n",
    "    return xeng/yeng\n",
    "\n",
    "\n",
    "    \n"
   ]
  },
  {
   "cell_type": "code",
   "execution_count": null,
   "metadata": {
    "collapsed": true
   },
   "outputs": [],
   "source": []
  },
  {
   "cell_type": "code",
   "execution_count": null,
   "metadata": {
    "collapsed": false,
    "scrolled": true
   },
   "outputs": [],
   "source": []
  },
  {
   "cell_type": "code",
   "execution_count": null,
   "metadata": {
    "collapsed": false
   },
   "outputs": [],
   "source": [
    "def RandomLaplaceSignal(scale,N):\n",
    "    \"\"\" Random realization of a laplace distributed signal.\n",
    "    \"\"\"    \n",
    "    x = np.random.laplace(0.0,scale=scale,size=(N,1))    \n",
    "    return x"
   ]
  },
  {
   "cell_type": "code",
   "execution_count": null,
   "metadata": {
    "collapsed": true
   },
   "outputs": [],
   "source": [
    "xlaplace = RandomLaplaceSignal(1.0,1024)\n",
    "ShowSignal(xlaplace);"
   ]
  },
  {
   "cell_type": "code",
   "execution_count": null,
   "metadata": {
    "collapsed": true
   },
   "outputs": [],
   "source": [
    "def RandomGaussSignal(sig,N):\n",
    "    \"\"\"Random realization of a normally distributed signal.\"\"\"\n",
    "    \n",
    "    x = sig*np.random.randn(N,1)\n",
    "    return x"
   ]
  },
  {
   "cell_type": "code",
   "execution_count": null,
   "metadata": {
    "collapsed": false
   },
   "outputs": [],
   "source": [
    "xgauss = RandomGaussSignal(1.0,1024)\n",
    "ShowSignal(xgauss)"
   ]
  },
  {
   "cell_type": "code",
   "execution_count": null,
   "metadata": {
    "collapsed": false
   },
   "outputs": [],
   "source": [
    "CompareDecay(\"K-Spase\",xsparse,\"Laplace\",xlaplace,\"Gaussian\",xgauss)"
   ]
  },
  {
   "cell_type": "code",
   "execution_count": null,
   "metadata": {
    "collapsed": false
   },
   "outputs": [],
   "source": [
    "LaplaceERatio = np.zeros((1023,1));\n",
    "GaussERatio = np.zeros((1023,1));\n",
    "SparseERatio = np.zeros((1023,1));\n",
    "LaplaceMSE = np.zeros((1023,1));\n",
    "GaussMSE = np.zeros((1023,1));\n",
    "SparseMSE = np.zeros((1023,1));\n",
    "for k in range(1,1023):\n",
    "    laplaceK = TopKThreshold(xlaplace,k);\n",
    "    gaussK = TopKThreshold(xgauss,k);\n",
    "    sparseK = TopKThreshold(xsparse,k);\n",
    "    \n",
    "    LaplaceERatio[k-1] = EnergyRatio(laplaceK,xlaplace)\n",
    "    GaussERatio[k-1] = EnergyRatio(gaussK,xgauss)\n",
    "    SparseERatio[k-1] = EnergyRatio(sparseK,xsparse)\n",
    "    \n",
    "    LaplaceMSE[k-1] = MSE(laplaceK,xlaplace)\n",
    "    GaussMSE[k-1] = MSE(gaussK,xgauss)\n",
    "    SparseMSE[k-1] = MSE(sparseK,xsparse)    "
   ]
  },
  {
   "cell_type": "code",
   "execution_count": null,
   "metadata": {
    "collapsed": false
   },
   "outputs": [],
   "source": [
    "CompareEnergyCompaction(\"Sparse\",SparseERatio,\"Laplace\",LaplaceERatio,\"Gaussian\",GaussERatio);    \n",
    "CompareMSE(\"Sparse\",SparseMSE,\"Laplace\",LaplaceMSE,\"Gaussian\",GaussMSE);    "
   ]
  },
  {
   "cell_type": "code",
   "execution_count": null,
   "metadata": {
    "collapsed": false
   },
   "outputs": [],
   "source": [
    "plt.plot(xsparse);\n",
    "plt.plot(fft.ifft(xsparse));"
   ]
  },
  {
   "cell_type": "code",
   "execution_count": null,
   "metadata": {
    "collapsed": false
   },
   "outputs": [],
   "source": [
    "F = fftpk.fft(xsparse)\n",
    "plt.plot(F)"
   ]
  },
  {
   "cell_type": "code",
   "execution_count": null,
   "metadata": {
    "collapsed": false
   },
   "outputs": [],
   "source": [
    " ?fftpk.fft"
   ]
  },
  {
   "cell_type": "code",
   "execution_count": null,
   "metadata": {
    "collapsed": true
   },
   "outputs": [],
   "source": []
  }
 ],
 "metadata": {
  "kernelspec": {
   "display_name": "Python 2",
   "language": "python",
   "name": "python2"
  },
  "language_info": {
   "codemirror_mode": {
    "name": "ipython",
    "version": 2
   },
   "file_extension": ".py",
   "mimetype": "text/x-python",
   "name": "python",
   "nbconvert_exporter": "python",
   "pygments_lexer": "ipython2",
   "version": "2.7.10"
  }
 },
 "nbformat": 4,
 "nbformat_minor": 0
}

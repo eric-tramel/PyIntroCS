{
 "cells": [
  {
   "cell_type": "markdown",
   "metadata": {},
   "source": [
    "# Example: Image Reconstruction\n",
    "We know turn our attention to a complicated, \"large scale\" demonstration of the techniques which we have just reviewed in the previous notebooks. Here, we will look at a compressed sensing *image reconstruction* problem.\n",
    "\n",
    "We will assume that we have some manner by which we can acquire random samples of a square image which is of size ($512\\times 512$), which comes out to $N = 262144$, a problem size which far surpasses our ability to use random, dense sampling matrices.\n",
    "\n",
    "We need to devise both a sampling method and a reconstruction approach which are well suited for problems of this size."
   ]
  },
  {
   "cell_type": "code",
   "execution_count": null,
   "metadata": {
    "collapsed": false
   },
   "outputs": [],
   "source": [
    "%matplotlib inline\n",
    "import numpy as np\n",
    "import matplotlib.pyplot as plt\n",
    "import pywt as pw\n",
    "import scipy.fftpack as fp\n",
    "import scipy.linalg as la       \n",
    "import scipy.signal as sig\n",
    "from scipy import misc"
   ]
  },
  {
   "cell_type": "code",
   "execution_count": null,
   "metadata": {
    "collapsed": false
   },
   "outputs": [],
   "source": [
    "def MSE(x,y):\n",
    "    mseval = np.mean(np.power(x-y,2))    \n",
    "    return mseval\n",
    "\n",
    "def normalize(x):\n",
    "    y = (x - min(x))/(max(x)-min(x))\n",
    "    return y\n",
    "\n",
    "class SRM:\n",
    "    def __init__(self,m,n,blksize):\n",
    "        self.n = n\n",
    "        self.m = m\n",
    "        self.blksize = blksize\n",
    "        self.random_perm = np.random.permutation(n)\n",
    "        self.select_vect = np.random.permutation(n)[:m]\n",
    "        self.D = fp.dct(np.eye(blksize),norm='ortho',type=3)\n",
    "        self.blkshape = (blksize,n/blksize)\n",
    "        \n",
    "    def forward(self,x):\n",
    "        y = np.asarray(x)\n",
    "        y = y[self.random_perm]\n",
    "        y = np.reshape(y,self.blkshape)\n",
    "        y = np.dot(self.D,y)\n",
    "        y = np.reshape(y,(self.n,1))\n",
    "        y = y[self.select_vect]\n",
    "        return y\n",
    "    \n",
    "    def transpose(self,y):\n",
    "        x = np.zeros((self.n,1))\n",
    "        x[self.select_vect] = y\n",
    "        x = np.reshape(x,self.blkshape)\n",
    "        x = np.dot(self.D.T,x);\n",
    "        x = np.reshape(x,(self.n,1))\n",
    "        x = x[np.argsort(self.random_perm)]\n",
    "        \n",
    "        return x\n",
    "\n",
    "    \n",
    "def DoubleExpand(x):\n",
    "    r,c = np.shape(x)\n",
    "    X = np.zeros((2*r,2*c))\n",
    "    X[0::2,0::2] = x\n",
    "    X[1::2,0::2] = x\n",
    "    X[0::2,1::2] = x\n",
    "    X[1::2,1::2] = x\n",
    "    \n",
    "    return X\n",
    "    \n",
    "    \n",
    "def bishrink(w,wParent,beta):\n",
    "    s = np.power(np.abs(w),2)\n",
    "    sParent = np.power(np.abs(wParent),2)\n",
    "    R = np.sqrt(s + sParent)\n",
    "    R[R<beta] = 0.0\n",
    "    R = np.divide(R,R+beta)\n",
    "    wFinal = np.multiply(w,R)\n",
    "    \n",
    "    return wFinal\n",
    "    \n",
    "def BivariateShrinkage(W,end_level,lam):\n",
    "    windowsize = 3\n",
    "    eps = 1e-6\n",
    "    windowfilt = np.ones((windowsize,windowsize))/(windowsize*windowsize)\n",
    "    L = np.shape(W)[0]\n",
    "    # Check noise sig on the highest detail diagonal\n",
    "    NoiseSig = np.median(abs(W[L-1][2]))/0.6745\n",
    "    NoiseVar = NoiseSig*NoiseSig\n",
    "    \n",
    "    for scale in (range(0,L)[:end_level:-1]):\n",
    "        for dir in [0,1,2]:\n",
    "            w = W[scale][dir]\n",
    "            wParent = DoubleExpand(W[scale-1][dir])\n",
    "            \n",
    "            Wsig = sig.convolve2d(np.power(w,2),windowfilt,mode='same',boundary='symm')\n",
    "            Ssig = np.sqrt(np.max(Wsig - NoiseVar,eps))\n",
    "            \n",
    "            T = np.sqrt(3)*NoiseVar/Ssig\n",
    "            \n",
    "            W[scale][dir] = bishrink(w,wParent,T*lam)\n",
    "    \n",
    "    return W\n",
    "    \n",
    "def ISTImageRecovery(F,y,imshape,lam,iters,xtrue):\n",
    "    wfilter = 'db1'\n",
    "    vecshape = (F.n,1)\n",
    "    L = 5\n",
    "    x = np.zeros((F.n,1))\n",
    "    xlast = np.zeros((F.n,1))\n",
    "    for i in range(1,iters):\n",
    "        r = y - F.forward(x)\n",
    "        z = x + F.transpose(r)\n",
    "        # Transform into wavelet coefficients\n",
    "        zim = np.reshape(z,imshape)\n",
    "        wim = pw.wavedec2(zim,wfilter,mode='sym',level=L)\n",
    "        # From Tuple->List\n",
    "        wim = list(wim)\n",
    "        for l in range(0,L+1):\n",
    "            wim[l] = list(wim[l])\n",
    "        # Apply Shrinkage\n",
    "        wim = BivariateShrinkage(wim,1,lam)\n",
    "        # Back to image space  \n",
    "        xim = pw.waverec2(wim,wfilter,mode='sym')\n",
    "        xlast = x\n",
    "        x = np.reshape(xim,vecshape)\n",
    "        \n",
    "        conv = MSE(x,xlast)\n",
    "        mseval = MSE(x,xtrue)\n",
    "        \n",
    "        if conv < 1e-6:\n",
    "            break\n",
    "        \n",
    "        print \"[%d] Conv : %.3e | MSE : %.3e\" % (i,conv,mseval)\n",
    "        \n",
    "    x = np.reshape(x,imshape)\n",
    "    return x"
   ]
  },
  {
   "cell_type": "code",
   "execution_count": null,
   "metadata": {
    "collapsed": false
   },
   "outputs": [],
   "source": [
    "im = misc.lena().astype(np.float32)\n",
    "\n",
    "N = np.size(im)\n",
    "M = int(round(0.25*N))\n",
    "imshape = np.shape(im)\n",
    "\n",
    "F = SRM(M,N,32)\n",
    "x = np.reshape(im,(N,1))\n",
    "x = normalize(x)\n",
    "y = F.forward(x)\n",
    "\n",
    "xt = ISTImageRecovery(F,y,imshape,20,100,x)"
   ]
  },
  {
   "cell_type": "code",
   "execution_count": null,
   "metadata": {
    "collapsed": false
   },
   "outputs": [],
   "source": [
    "xim = np.reshape(x,imshape)\n",
    "plt.matshow(np.reshape(x,imshape));\n",
    "plt.gray()\n",
    "\n",
    "plt.matshow(xt);\n",
    "plt.gray()\n",
    "\n",
    "plt.matshow(abs(xim-xt));\n",
    "plt.jet()"
   ]
  },
  {
   "cell_type": "code",
   "execution_count": null,
   "metadata": {
    "collapsed": false
   },
   "outputs": [],
   "source": []
  },
  {
   "cell_type": "code",
   "execution_count": null,
   "metadata": {
    "collapsed": true
   },
   "outputs": [],
   "source": []
  }
 ],
 "metadata": {
  "kernelspec": {
   "display_name": "Python 2",
   "language": "python",
   "name": "python2"
  },
  "language_info": {
   "codemirror_mode": {
    "name": "ipython",
    "version": 2
   },
   "file_extension": ".py",
   "mimetype": "text/x-python",
   "name": "python",
   "nbconvert_exporter": "python",
   "pygments_lexer": "ipython2",
   "version": "2.7.10"
  }
 },
 "nbformat": 4,
 "nbformat_minor": 0
}
